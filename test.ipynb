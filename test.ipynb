{
 "cells": [
  {
   "cell_type": "code",
   "execution_count": 1,
   "id": "initial_id",
   "metadata": {
    "ExecuteTime": {
     "start_time": "2025-02-23T18:39:42.810482Z"
    },
    "jupyter": {
     "is_executing": true
    }
   },
   "outputs": [],
   "source": [
    "import pandas as pd\n",
    "df = pd.read_parquet(\"data_wout.parquet\")"
   ]
  },
  {
   "cell_type": "code",
   "execution_count": 2,
   "id": "899edf75b2f6e576",
   "metadata": {
    "ExecuteTime": {
     "end_time": "2025-02-25T15:11:25.226753Z",
     "start_time": "2025-02-25T15:11:25.105655Z"
    }
   },
   "outputs": [
    {
     "data": {
      "text/plain": [
       "Index(['dataset', 'filename', 'scan', 'sequence', 'charge', 'mz'], dtype='object')"
      ]
     },
     "execution_count": 2,
     "metadata": {},
     "output_type": "execute_result"
    }
   ],
   "source": [
    "df.columns"
   ]
  },
  {
   "cell_type": "code",
   "execution_count": 3,
   "id": "3eb20220-78a2-47ad-956f-44794e9217fc",
   "metadata": {},
   "outputs": [
    {
     "data": {
      "text/plain": [
       "185305412"
      ]
     },
     "execution_count": 3,
     "metadata": {},
     "output_type": "execute_result"
    }
   ],
   "source": [
    "len(df)"
   ]
  },
  {
   "cell_type": "code",
   "execution_count": 4,
   "id": "6fbc7ff6-eb21-4d2f-9d1b-0ff880a9afc6",
   "metadata": {},
   "outputs": [],
   "source": [
    "df2 = pd.read_parquet(\"dataset.parquet\")"
   ]
  },
  {
   "cell_type": "code",
   "execution_count": 5,
   "id": "a1652ac8-9cd3-41fe-a2ea-df92c3e7603e",
   "metadata": {},
   "outputs": [
    {
     "data": {
      "text/plain": [
       "127478551"
      ]
     },
     "execution_count": 5,
     "metadata": {},
     "output_type": "execute_result"
    }
   ],
   "source": [
    "len(df2)"
   ]
  },
  {
   "cell_type": "code",
   "execution_count": 6,
   "id": "c87d4682-c7e4-4ace-8a02-8ef6d5146e6a",
   "metadata": {},
   "outputs": [],
   "source": [
    "sequences = df['sequence'].unique()"
   ]
  },
  {
   "cell_type": "code",
   "execution_count": 25,
   "id": "13484a5a-0a22-425b-ba19-84ed7475f455",
   "metadata": {},
   "outputs": [
    {
     "data": {
      "text/plain": [
       "array(['HAVSEGTK', 'SSGAHGEEGSAR', '-17.027QRRTTSSSTRR', ...,\n",
       "       '+42.011SQSRERESDRDGQRRERERRT', 'KFFFPPDYQVLK',\n",
       "       '+42.011ELERSLRFDMKGDDVIVFLHIQKTGGTTFGRHLVQNVR'],\n",
       "      shape=(4209326,), dtype=object)"
      ]
     },
     "execution_count": 25,
     "metadata": {},
     "output_type": "execute_result"
    }
   ],
   "source": [
    "sequences"
   ]
  },
  {
   "cell_type": "code",
   "execution_count": 10,
   "id": "4dc6f637-9dfc-45b1-aa92-b4e2287c5f37",
   "metadata": {},
   "outputs": [],
   "source": [
    "filtered=df[df['sequence']=='HAVSEGTK']"
   ]
  },
  {
   "cell_type": "code",
   "execution_count": 11,
   "id": "e787e8dd-b903-454a-8bc9-22f307c01479",
   "metadata": {},
   "outputs": [
    {
     "data": {
      "text/html": [
       "<div>\n",
       "<style scoped>\n",
       "    .dataframe tbody tr th:only-of-type {\n",
       "        vertical-align: middle;\n",
       "    }\n",
       "\n",
       "    .dataframe tbody tr th {\n",
       "        vertical-align: top;\n",
       "    }\n",
       "\n",
       "    .dataframe thead th {\n",
       "        text-align: right;\n",
       "    }\n",
       "</style>\n",
       "<table border=\"1\" class=\"dataframe\">\n",
       "  <thead>\n",
       "    <tr style=\"text-align: right;\">\n",
       "      <th></th>\n",
       "      <th>dataset</th>\n",
       "      <th>filename</th>\n",
       "      <th>scan</th>\n",
       "      <th>sequence</th>\n",
       "      <th>charge</th>\n",
       "      <th>mz</th>\n",
       "    </tr>\n",
       "  </thead>\n",
       "  <tbody>\n",
       "    <tr>\n",
       "      <th>0</th>\n",
       "      <td>MSV000078777</td>\n",
       "      <td>SulfenM_RKO_LCA_A01.mzXML.gz</td>\n",
       "      <td>562</td>\n",
       "      <td>HAVSEGTK</td>\n",
       "      <td>2</td>\n",
       "      <td>414.713509</td>\n",
       "    </tr>\n",
       "    <tr>\n",
       "      <th>1</th>\n",
       "      <td>MSV000078777</td>\n",
       "      <td>SulfenM_RKO_LCA_A01.mzXML.gz</td>\n",
       "      <td>631</td>\n",
       "      <td>HAVSEGTK</td>\n",
       "      <td>2</td>\n",
       "      <td>414.713831</td>\n",
       "    </tr>\n",
       "    <tr>\n",
       "      <th>2</th>\n",
       "      <td>MSV000078777</td>\n",
       "      <td>SulfenM_RKO_LCA_A01.mzXML.gz</td>\n",
       "      <td>713</td>\n",
       "      <td>HAVSEGTK</td>\n",
       "      <td>2</td>\n",
       "      <td>414.713978</td>\n",
       "    </tr>\n",
       "    <tr>\n",
       "      <th>3</th>\n",
       "      <td>MSV000078777</td>\n",
       "      <td>SulfenM_RKO_LCA_A01.mzXML.gz</td>\n",
       "      <td>818</td>\n",
       "      <td>HAVSEGTK</td>\n",
       "      <td>2</td>\n",
       "      <td>414.713923</td>\n",
       "    </tr>\n",
       "    <tr>\n",
       "      <th>4</th>\n",
       "      <td>MSV000078777</td>\n",
       "      <td>SulfenM_RKO_LCA_A01.mzXML.gz</td>\n",
       "      <td>901</td>\n",
       "      <td>HAVSEGTK</td>\n",
       "      <td>2</td>\n",
       "      <td>414.714803</td>\n",
       "    </tr>\n",
       "    <tr>\n",
       "      <th>...</th>\n",
       "      <td>...</td>\n",
       "      <td>...</td>\n",
       "      <td>...</td>\n",
       "      <td>...</td>\n",
       "      <td>...</td>\n",
       "      <td>...</td>\n",
       "    </tr>\n",
       "    <tr>\n",
       "      <th>185219879</th>\n",
       "      <td>MSV000081649</td>\n",
       "      <td>liver_4_4.mzML.gz</td>\n",
       "      <td>59602</td>\n",
       "      <td>HAVSEGTK</td>\n",
       "      <td>2</td>\n",
       "      <td>414.713400</td>\n",
       "    </tr>\n",
       "    <tr>\n",
       "      <th>185220018</th>\n",
       "      <td>MSV000081649</td>\n",
       "      <td>liver_4_5.mzML.gz</td>\n",
       "      <td>1957</td>\n",
       "      <td>HAVSEGTK</td>\n",
       "      <td>2</td>\n",
       "      <td>414.713819</td>\n",
       "    </tr>\n",
       "    <tr>\n",
       "      <th>185220024</th>\n",
       "      <td>MSV000081649</td>\n",
       "      <td>liver_4_5.mzML.gz</td>\n",
       "      <td>2171</td>\n",
       "      <td>HAVSEGTK</td>\n",
       "      <td>2</td>\n",
       "      <td>414.713682</td>\n",
       "    </tr>\n",
       "    <tr>\n",
       "      <th>185243341</th>\n",
       "      <td>MSV000081649</td>\n",
       "      <td>liver_4_6.mzML.gz</td>\n",
       "      <td>1985</td>\n",
       "      <td>HAVSEGTK</td>\n",
       "      <td>2</td>\n",
       "      <td>414.714100</td>\n",
       "    </tr>\n",
       "    <tr>\n",
       "      <th>185243353</th>\n",
       "      <td>MSV000081649</td>\n",
       "      <td>liver_4_6.mzML.gz</td>\n",
       "      <td>2173</td>\n",
       "      <td>HAVSEGTK</td>\n",
       "      <td>2</td>\n",
       "      <td>414.713887</td>\n",
       "    </tr>\n",
       "  </tbody>\n",
       "</table>\n",
       "<p>4707 rows × 6 columns</p>\n",
       "</div>"
      ],
      "text/plain": [
       "                dataset                      filename   scan  sequence  \\\n",
       "0          MSV000078777  SulfenM_RKO_LCA_A01.mzXML.gz    562  HAVSEGTK   \n",
       "1          MSV000078777  SulfenM_RKO_LCA_A01.mzXML.gz    631  HAVSEGTK   \n",
       "2          MSV000078777  SulfenM_RKO_LCA_A01.mzXML.gz    713  HAVSEGTK   \n",
       "3          MSV000078777  SulfenM_RKO_LCA_A01.mzXML.gz    818  HAVSEGTK   \n",
       "4          MSV000078777  SulfenM_RKO_LCA_A01.mzXML.gz    901  HAVSEGTK   \n",
       "...                 ...                           ...    ...       ...   \n",
       "185219879  MSV000081649             liver_4_4.mzML.gz  59602  HAVSEGTK   \n",
       "185220018  MSV000081649             liver_4_5.mzML.gz   1957  HAVSEGTK   \n",
       "185220024  MSV000081649             liver_4_5.mzML.gz   2171  HAVSEGTK   \n",
       "185243341  MSV000081649             liver_4_6.mzML.gz   1985  HAVSEGTK   \n",
       "185243353  MSV000081649             liver_4_6.mzML.gz   2173  HAVSEGTK   \n",
       "\n",
       "           charge          mz  \n",
       "0               2  414.713509  \n",
       "1               2  414.713831  \n",
       "2               2  414.713978  \n",
       "3               2  414.713923  \n",
       "4               2  414.714803  \n",
       "...           ...         ...  \n",
       "185219879       2  414.713400  \n",
       "185220018       2  414.713819  \n",
       "185220024       2  414.713682  \n",
       "185243341       2  414.714100  \n",
       "185243353       2  414.713887  \n",
       "\n",
       "[4707 rows x 6 columns]"
      ]
     },
     "execution_count": 11,
     "metadata": {},
     "output_type": "execute_result"
    }
   ],
   "source": [
    "filtered"
   ]
  },
  {
   "cell_type": "code",
   "execution_count": 12,
   "id": "94c2a14c-8e84-433d-9f7d-90583c9f219e",
   "metadata": {},
   "outputs": [],
   "source": [
    "filered2=df2[df2['sequence']=='HAVSEGTK']"
   ]
  },
  {
   "cell_type": "code",
   "execution_count": 13,
   "id": "ea9b6919-f00d-419c-8ca4-1cb3d482f26b",
   "metadata": {},
   "outputs": [
    {
     "data": {
      "text/html": [
       "<div>\n",
       "<style scoped>\n",
       "    .dataframe tbody tr th:only-of-type {\n",
       "        vertical-align: middle;\n",
       "    }\n",
       "\n",
       "    .dataframe tbody tr th {\n",
       "        vertical-align: top;\n",
       "    }\n",
       "\n",
       "    .dataframe thead th {\n",
       "        text-align: right;\n",
       "    }\n",
       "</style>\n",
       "<table border=\"1\" class=\"dataframe\">\n",
       "  <thead>\n",
       "    <tr style=\"text-align: right;\">\n",
       "      <th></th>\n",
       "      <th>task_id</th>\n",
       "      <th>dataset</th>\n",
       "      <th>filename</th>\n",
       "      <th>scan_nr</th>\n",
       "      <th>sequence</th>\n",
       "      <th>charge</th>\n",
       "      <th>mz</th>\n",
       "    </tr>\n",
       "  </thead>\n",
       "  <tbody>\n",
       "    <tr>\n",
       "      <th>14392</th>\n",
       "      <td>40e5c27662a2442fb6f5679cab2a6580</td>\n",
       "      <td>MSV000080744</td>\n",
       "      <td>20161104_Voin_Rep_Day3.mzML</td>\n",
       "      <td>2041</td>\n",
       "      <td>HAVSEGTK</td>\n",
       "      <td>2</td>\n",
       "      <td>415.21533</td>\n",
       "    </tr>\n",
       "    <tr>\n",
       "      <th>129954</th>\n",
       "      <td>9e99e616f94442ba89f75efa585a0f34</td>\n",
       "      <td>MSV000080757</td>\n",
       "      <td>20110707_EXQ1_TaGe_SA_BC40_3.mzML</td>\n",
       "      <td>539</td>\n",
       "      <td>HAVSEGTK</td>\n",
       "      <td>2</td>\n",
       "      <td>414.71594</td>\n",
       "    </tr>\n",
       "    <tr>\n",
       "      <th>139828</th>\n",
       "      <td>9e99e616f94442ba89f75efa585a0f34</td>\n",
       "      <td>MSV000080757</td>\n",
       "      <td>20110823_EXQ3_TaGe_SA_BC30_6.mzML</td>\n",
       "      <td>2650</td>\n",
       "      <td>HAVSEGTK</td>\n",
       "      <td>2</td>\n",
       "      <td>414.71450</td>\n",
       "    </tr>\n",
       "    <tr>\n",
       "      <th>139829</th>\n",
       "      <td>9e99e616f94442ba89f75efa585a0f34</td>\n",
       "      <td>MSV000080757</td>\n",
       "      <td>20110707_EXQ1_TaGe_SA_BC40_3.mzML</td>\n",
       "      <td>451</td>\n",
       "      <td>HAVSEGTK</td>\n",
       "      <td>2</td>\n",
       "      <td>414.71582</td>\n",
       "    </tr>\n",
       "    <tr>\n",
       "      <th>273177</th>\n",
       "      <td>8d678d0c262b4b11ba377ed1dd1e9fb1</td>\n",
       "      <td>MSV000080757</td>\n",
       "      <td>20110707_EXQ1_TaGe_SA_BC40_6.mzML</td>\n",
       "      <td>1156</td>\n",
       "      <td>HAVSEGTK</td>\n",
       "      <td>2</td>\n",
       "      <td>414.71558</td>\n",
       "    </tr>\n",
       "    <tr>\n",
       "      <th>...</th>\n",
       "      <td>...</td>\n",
       "      <td>...</td>\n",
       "      <td>...</td>\n",
       "      <td>...</td>\n",
       "      <td>...</td>\n",
       "      <td>...</td>\n",
       "      <td>...</td>\n",
       "    </tr>\n",
       "    <tr>\n",
       "      <th>127221542</th>\n",
       "      <td>948b81c1b28c4de7a53fdd0018b7111a</td>\n",
       "      <td>MSV000078777</td>\n",
       "      <td>SulfenM_RKO_LCA_A02.mzXML</td>\n",
       "      <td>1063</td>\n",
       "      <td>HAVSEGTK</td>\n",
       "      <td>2</td>\n",
       "      <td>414.71420</td>\n",
       "    </tr>\n",
       "    <tr>\n",
       "      <th>127221543</th>\n",
       "      <td>948b81c1b28c4de7a53fdd0018b7111a</td>\n",
       "      <td>MSV000078777</td>\n",
       "      <td>SulfenM_RKO_LCA_B02.mzXML</td>\n",
       "      <td>985</td>\n",
       "      <td>HAVSEGTK</td>\n",
       "      <td>2</td>\n",
       "      <td>414.71368</td>\n",
       "    </tr>\n",
       "    <tr>\n",
       "      <th>127221544</th>\n",
       "      <td>948b81c1b28c4de7a53fdd0018b7111a</td>\n",
       "      <td>MSV000078777</td>\n",
       "      <td>SulfenM_RKO_LCA_A03.mzXML</td>\n",
       "      <td>652</td>\n",
       "      <td>HAVSEGTK</td>\n",
       "      <td>2</td>\n",
       "      <td>414.71380</td>\n",
       "    </tr>\n",
       "    <tr>\n",
       "      <th>127221545</th>\n",
       "      <td>948b81c1b28c4de7a53fdd0018b7111a</td>\n",
       "      <td>MSV000078777</td>\n",
       "      <td>SulfenQ_A431_EGF_LH_A2.mzXML</td>\n",
       "      <td>1425</td>\n",
       "      <td>HAVSEGTK</td>\n",
       "      <td>2</td>\n",
       "      <td>414.71480</td>\n",
       "    </tr>\n",
       "    <tr>\n",
       "      <th>127221546</th>\n",
       "      <td>948b81c1b28c4de7a53fdd0018b7111a</td>\n",
       "      <td>MSV000078777</td>\n",
       "      <td>SulfenM_RKO_LCA_A03.mzXML</td>\n",
       "      <td>783</td>\n",
       "      <td>HAVSEGTK</td>\n",
       "      <td>2</td>\n",
       "      <td>414.71370</td>\n",
       "    </tr>\n",
       "  </tbody>\n",
       "</table>\n",
       "<p>6663 rows × 7 columns</p>\n",
       "</div>"
      ],
      "text/plain": [
       "                                    task_id       dataset  \\\n",
       "14392      40e5c27662a2442fb6f5679cab2a6580  MSV000080744   \n",
       "129954     9e99e616f94442ba89f75efa585a0f34  MSV000080757   \n",
       "139828     9e99e616f94442ba89f75efa585a0f34  MSV000080757   \n",
       "139829     9e99e616f94442ba89f75efa585a0f34  MSV000080757   \n",
       "273177     8d678d0c262b4b11ba377ed1dd1e9fb1  MSV000080757   \n",
       "...                                     ...           ...   \n",
       "127221542  948b81c1b28c4de7a53fdd0018b7111a  MSV000078777   \n",
       "127221543  948b81c1b28c4de7a53fdd0018b7111a  MSV000078777   \n",
       "127221544  948b81c1b28c4de7a53fdd0018b7111a  MSV000078777   \n",
       "127221545  948b81c1b28c4de7a53fdd0018b7111a  MSV000078777   \n",
       "127221546  948b81c1b28c4de7a53fdd0018b7111a  MSV000078777   \n",
       "\n",
       "                                    filename  scan_nr  sequence  charge  \\\n",
       "14392            20161104_Voin_Rep_Day3.mzML     2041  HAVSEGTK       2   \n",
       "129954     20110707_EXQ1_TaGe_SA_BC40_3.mzML      539  HAVSEGTK       2   \n",
       "139828     20110823_EXQ3_TaGe_SA_BC30_6.mzML     2650  HAVSEGTK       2   \n",
       "139829     20110707_EXQ1_TaGe_SA_BC40_3.mzML      451  HAVSEGTK       2   \n",
       "273177     20110707_EXQ1_TaGe_SA_BC40_6.mzML     1156  HAVSEGTK       2   \n",
       "...                                      ...      ...       ...     ...   \n",
       "127221542          SulfenM_RKO_LCA_A02.mzXML     1063  HAVSEGTK       2   \n",
       "127221543          SulfenM_RKO_LCA_B02.mzXML      985  HAVSEGTK       2   \n",
       "127221544          SulfenM_RKO_LCA_A03.mzXML      652  HAVSEGTK       2   \n",
       "127221545       SulfenQ_A431_EGF_LH_A2.mzXML     1425  HAVSEGTK       2   \n",
       "127221546          SulfenM_RKO_LCA_A03.mzXML      783  HAVSEGTK       2   \n",
       "\n",
       "                  mz  \n",
       "14392      415.21533  \n",
       "129954     414.71594  \n",
       "139828     414.71450  \n",
       "139829     414.71582  \n",
       "273177     414.71558  \n",
       "...              ...  \n",
       "127221542  414.71420  \n",
       "127221543  414.71368  \n",
       "127221544  414.71380  \n",
       "127221545  414.71480  \n",
       "127221546  414.71370  \n",
       "\n",
       "[6663 rows x 7 columns]"
      ]
     },
     "execution_count": 13,
     "metadata": {},
     "output_type": "execute_result"
    }
   ],
   "source": [
    "filered2"
   ]
  }
 ],
 "metadata": {
  "kernelspec": {
   "display_name": "Python 3 (ipykernel)",
   "language": "python",
   "name": "python3"
  },
  "language_info": {
   "codemirror_mode": {
    "name": "ipython",
    "version": 3
   },
   "file_extension": ".py",
   "mimetype": "text/x-python",
   "name": "python",
   "nbconvert_exporter": "python",
   "pygments_lexer": "ipython3",
   "version": "3.12.7"
  }
 },
 "nbformat": 4,
 "nbformat_minor": 5
}
